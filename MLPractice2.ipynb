{
  "nbformat": 4,
  "nbformat_minor": 0,
  "metadata": {
    "colab": {
      "provenance": [],
      "authorship_tag": "ABX9TyM9dBXWuralU8QPJni2k4gy",
      "include_colab_link": true
    },
    "kernelspec": {
      "name": "python3",
      "display_name": "Python 3"
    },
    "language_info": {
      "name": "python"
    }
  },
  "cells": [
    {
      "cell_type": "markdown",
      "metadata": {
        "id": "view-in-github",
        "colab_type": "text"
      },
      "source": [
        "<a href=\"https://colab.research.google.com/github/20adityasingh/MLPractice2/blob/master/MLPractice2.ipynb\" target=\"_parent\"><img src=\"https://colab.research.google.com/assets/colab-badge.svg\" alt=\"Open In Colab\"/></a>"
      ]
    },
    {
      "cell_type": "code",
      "execution_count": 117,
      "metadata": {
        "id": "mNQQFh1HRRdW"
      },
      "outputs": [],
      "source": [
        "import pandas as pd\n",
        "import numpy as np\n",
        "import matplotlib.pyplot as plt\n",
        "import seaborn as sns\n",
        "from sklearn.impute import SimpleImputer"
      ]
    },
    {
      "cell_type": "code",
      "source": [
        "data=pd.read_csv('churn_prediction.csv')\n",
        "data.head()"
      ],
      "metadata": {
        "colab": {
          "base_uri": "https://localhost:8080/",
          "height": 255
        },
        "id": "hf0xNppSC6Qd",
        "outputId": "c359e969-c8a0-456d-b41f-83878b065c5e"
      },
      "execution_count": 118,
      "outputs": [
        {
          "output_type": "execute_result",
          "data": {
            "text/plain": [
              "   customer_id  vintage  age gender  dependents     occupation    city  \\\n",
              "0            1     2101   66   Male         0.0  self_employed   187.0   \n",
              "1            2     2348   35   Male         0.0  self_employed     NaN   \n",
              "2            4     2194   31   Male         0.0       salaried   146.0   \n",
              "3            5     2329   90    NaN         NaN  self_employed  1020.0   \n",
              "4            6     1579   42   Male         2.0  self_employed  1494.0   \n",
              "\n",
              "   customer_nw_category  branch_code  current_balance  ...  \\\n",
              "0                     2          755          1458.71  ...   \n",
              "1                     2         3214          5390.37  ...   \n",
              "2                     2           41          3913.16  ...   \n",
              "3                     2          582          2291.91  ...   \n",
              "4                     3          388           927.72  ...   \n",
              "\n",
              "   average_monthly_balance_prevQ  average_monthly_balance_prevQ2  \\\n",
              "0                        1458.71                         1449.07   \n",
              "1                        7799.26                        12419.41   \n",
              "2                        4910.17                         2815.94   \n",
              "3                        2084.54                         1006.54   \n",
              "4                        1643.31                         1871.12   \n",
              "\n",
              "   current_month_credit  previous_month_credit  current_month_debit  \\\n",
              "0                  0.20                   0.20                 0.20   \n",
              "1                  0.56                   0.56              5486.27   \n",
              "2                  0.61                   0.61              6046.73   \n",
              "3                  0.47                   0.47                 0.47   \n",
              "4                  0.33                 714.61               588.62   \n",
              "\n",
              "   previous_month_debit  current_month_balance  previous_month_balance  churn  \\\n",
              "0                  0.20                1458.71                 1458.71      0   \n",
              "1                100.56                6496.78                 8787.61      0   \n",
              "2                259.23                5006.28                 5070.14      0   \n",
              "3               2143.33                2291.91                 1669.79      1   \n",
              "4               1538.06                1157.15                 1677.16      1   \n",
              "\n",
              "   last_transaction  \n",
              "0        2019-05-21  \n",
              "1        2019-11-01  \n",
              "2               NaT  \n",
              "3        2019-08-06  \n",
              "4        2019-11-03  \n",
              "\n",
              "[5 rows x 21 columns]"
            ],
            "text/html": [
              "\n",
              "  <div id=\"df-025923ce-886f-4e9b-b83f-d89cd2383da7\" class=\"colab-df-container\">\n",
              "    <div>\n",
              "<style scoped>\n",
              "    .dataframe tbody tr th:only-of-type {\n",
              "        vertical-align: middle;\n",
              "    }\n",
              "\n",
              "    .dataframe tbody tr th {\n",
              "        vertical-align: top;\n",
              "    }\n",
              "\n",
              "    .dataframe thead th {\n",
              "        text-align: right;\n",
              "    }\n",
              "</style>\n",
              "<table border=\"1\" class=\"dataframe\">\n",
              "  <thead>\n",
              "    <tr style=\"text-align: right;\">\n",
              "      <th></th>\n",
              "      <th>customer_id</th>\n",
              "      <th>vintage</th>\n",
              "      <th>age</th>\n",
              "      <th>gender</th>\n",
              "      <th>dependents</th>\n",
              "      <th>occupation</th>\n",
              "      <th>city</th>\n",
              "      <th>customer_nw_category</th>\n",
              "      <th>branch_code</th>\n",
              "      <th>current_balance</th>\n",
              "      <th>...</th>\n",
              "      <th>average_monthly_balance_prevQ</th>\n",
              "      <th>average_monthly_balance_prevQ2</th>\n",
              "      <th>current_month_credit</th>\n",
              "      <th>previous_month_credit</th>\n",
              "      <th>current_month_debit</th>\n",
              "      <th>previous_month_debit</th>\n",
              "      <th>current_month_balance</th>\n",
              "      <th>previous_month_balance</th>\n",
              "      <th>churn</th>\n",
              "      <th>last_transaction</th>\n",
              "    </tr>\n",
              "  </thead>\n",
              "  <tbody>\n",
              "    <tr>\n",
              "      <th>0</th>\n",
              "      <td>1</td>\n",
              "      <td>2101</td>\n",
              "      <td>66</td>\n",
              "      <td>Male</td>\n",
              "      <td>0.0</td>\n",
              "      <td>self_employed</td>\n",
              "      <td>187.0</td>\n",
              "      <td>2</td>\n",
              "      <td>755</td>\n",
              "      <td>1458.71</td>\n",
              "      <td>...</td>\n",
              "      <td>1458.71</td>\n",
              "      <td>1449.07</td>\n",
              "      <td>0.20</td>\n",
              "      <td>0.20</td>\n",
              "      <td>0.20</td>\n",
              "      <td>0.20</td>\n",
              "      <td>1458.71</td>\n",
              "      <td>1458.71</td>\n",
              "      <td>0</td>\n",
              "      <td>2019-05-21</td>\n",
              "    </tr>\n",
              "    <tr>\n",
              "      <th>1</th>\n",
              "      <td>2</td>\n",
              "      <td>2348</td>\n",
              "      <td>35</td>\n",
              "      <td>Male</td>\n",
              "      <td>0.0</td>\n",
              "      <td>self_employed</td>\n",
              "      <td>NaN</td>\n",
              "      <td>2</td>\n",
              "      <td>3214</td>\n",
              "      <td>5390.37</td>\n",
              "      <td>...</td>\n",
              "      <td>7799.26</td>\n",
              "      <td>12419.41</td>\n",
              "      <td>0.56</td>\n",
              "      <td>0.56</td>\n",
              "      <td>5486.27</td>\n",
              "      <td>100.56</td>\n",
              "      <td>6496.78</td>\n",
              "      <td>8787.61</td>\n",
              "      <td>0</td>\n",
              "      <td>2019-11-01</td>\n",
              "    </tr>\n",
              "    <tr>\n",
              "      <th>2</th>\n",
              "      <td>4</td>\n",
              "      <td>2194</td>\n",
              "      <td>31</td>\n",
              "      <td>Male</td>\n",
              "      <td>0.0</td>\n",
              "      <td>salaried</td>\n",
              "      <td>146.0</td>\n",
              "      <td>2</td>\n",
              "      <td>41</td>\n",
              "      <td>3913.16</td>\n",
              "      <td>...</td>\n",
              "      <td>4910.17</td>\n",
              "      <td>2815.94</td>\n",
              "      <td>0.61</td>\n",
              "      <td>0.61</td>\n",
              "      <td>6046.73</td>\n",
              "      <td>259.23</td>\n",
              "      <td>5006.28</td>\n",
              "      <td>5070.14</td>\n",
              "      <td>0</td>\n",
              "      <td>NaT</td>\n",
              "    </tr>\n",
              "    <tr>\n",
              "      <th>3</th>\n",
              "      <td>5</td>\n",
              "      <td>2329</td>\n",
              "      <td>90</td>\n",
              "      <td>NaN</td>\n",
              "      <td>NaN</td>\n",
              "      <td>self_employed</td>\n",
              "      <td>1020.0</td>\n",
              "      <td>2</td>\n",
              "      <td>582</td>\n",
              "      <td>2291.91</td>\n",
              "      <td>...</td>\n",
              "      <td>2084.54</td>\n",
              "      <td>1006.54</td>\n",
              "      <td>0.47</td>\n",
              "      <td>0.47</td>\n",
              "      <td>0.47</td>\n",
              "      <td>2143.33</td>\n",
              "      <td>2291.91</td>\n",
              "      <td>1669.79</td>\n",
              "      <td>1</td>\n",
              "      <td>2019-08-06</td>\n",
              "    </tr>\n",
              "    <tr>\n",
              "      <th>4</th>\n",
              "      <td>6</td>\n",
              "      <td>1579</td>\n",
              "      <td>42</td>\n",
              "      <td>Male</td>\n",
              "      <td>2.0</td>\n",
              "      <td>self_employed</td>\n",
              "      <td>1494.0</td>\n",
              "      <td>3</td>\n",
              "      <td>388</td>\n",
              "      <td>927.72</td>\n",
              "      <td>...</td>\n",
              "      <td>1643.31</td>\n",
              "      <td>1871.12</td>\n",
              "      <td>0.33</td>\n",
              "      <td>714.61</td>\n",
              "      <td>588.62</td>\n",
              "      <td>1538.06</td>\n",
              "      <td>1157.15</td>\n",
              "      <td>1677.16</td>\n",
              "      <td>1</td>\n",
              "      <td>2019-11-03</td>\n",
              "    </tr>\n",
              "  </tbody>\n",
              "</table>\n",
              "<p>5 rows × 21 columns</p>\n",
              "</div>\n",
              "    <div class=\"colab-df-buttons\">\n",
              "\n",
              "  <div class=\"colab-df-container\">\n",
              "    <button class=\"colab-df-convert\" onclick=\"convertToInteractive('df-025923ce-886f-4e9b-b83f-d89cd2383da7')\"\n",
              "            title=\"Convert this dataframe to an interactive table.\"\n",
              "            style=\"display:none;\">\n",
              "\n",
              "  <svg xmlns=\"http://www.w3.org/2000/svg\" height=\"24px\" viewBox=\"0 -960 960 960\">\n",
              "    <path d=\"M120-120v-720h720v720H120Zm60-500h600v-160H180v160Zm220 220h160v-160H400v160Zm0 220h160v-160H400v160ZM180-400h160v-160H180v160Zm440 0h160v-160H620v160ZM180-180h160v-160H180v160Zm440 0h160v-160H620v160Z\"/>\n",
              "  </svg>\n",
              "    </button>\n",
              "\n",
              "  <style>\n",
              "    .colab-df-container {\n",
              "      display:flex;\n",
              "      gap: 12px;\n",
              "    }\n",
              "\n",
              "    .colab-df-convert {\n",
              "      background-color: #E8F0FE;\n",
              "      border: none;\n",
              "      border-radius: 50%;\n",
              "      cursor: pointer;\n",
              "      display: none;\n",
              "      fill: #1967D2;\n",
              "      height: 32px;\n",
              "      padding: 0 0 0 0;\n",
              "      width: 32px;\n",
              "    }\n",
              "\n",
              "    .colab-df-convert:hover {\n",
              "      background-color: #E2EBFA;\n",
              "      box-shadow: 0px 1px 2px rgba(60, 64, 67, 0.3), 0px 1px 3px 1px rgba(60, 64, 67, 0.15);\n",
              "      fill: #174EA6;\n",
              "    }\n",
              "\n",
              "    .colab-df-buttons div {\n",
              "      margin-bottom: 4px;\n",
              "    }\n",
              "\n",
              "    [theme=dark] .colab-df-convert {\n",
              "      background-color: #3B4455;\n",
              "      fill: #D2E3FC;\n",
              "    }\n",
              "\n",
              "    [theme=dark] .colab-df-convert:hover {\n",
              "      background-color: #434B5C;\n",
              "      box-shadow: 0px 1px 3px 1px rgba(0, 0, 0, 0.15);\n",
              "      filter: drop-shadow(0px 1px 2px rgba(0, 0, 0, 0.3));\n",
              "      fill: #FFFFFF;\n",
              "    }\n",
              "  </style>\n",
              "\n",
              "    <script>\n",
              "      const buttonEl =\n",
              "        document.querySelector('#df-025923ce-886f-4e9b-b83f-d89cd2383da7 button.colab-df-convert');\n",
              "      buttonEl.style.display =\n",
              "        google.colab.kernel.accessAllowed ? 'block' : 'none';\n",
              "\n",
              "      async function convertToInteractive(key) {\n",
              "        const element = document.querySelector('#df-025923ce-886f-4e9b-b83f-d89cd2383da7');\n",
              "        const dataTable =\n",
              "          await google.colab.kernel.invokeFunction('convertToInteractive',\n",
              "                                                    [key], {});\n",
              "        if (!dataTable) return;\n",
              "\n",
              "        const docLinkHtml = 'Like what you see? Visit the ' +\n",
              "          '<a target=\"_blank\" href=https://colab.research.google.com/notebooks/data_table.ipynb>data table notebook</a>'\n",
              "          + ' to learn more about interactive tables.';\n",
              "        element.innerHTML = '';\n",
              "        dataTable['output_type'] = 'display_data';\n",
              "        await google.colab.output.renderOutput(dataTable, element);\n",
              "        const docLink = document.createElement('div');\n",
              "        docLink.innerHTML = docLinkHtml;\n",
              "        element.appendChild(docLink);\n",
              "      }\n",
              "    </script>\n",
              "  </div>\n",
              "\n",
              "\n",
              "<div id=\"df-49e47d35-7edc-4dec-9f21-96af52ce2199\">\n",
              "  <button class=\"colab-df-quickchart\" onclick=\"quickchart('df-49e47d35-7edc-4dec-9f21-96af52ce2199')\"\n",
              "            title=\"Suggest charts\"\n",
              "            style=\"display:none;\">\n",
              "\n",
              "<svg xmlns=\"http://www.w3.org/2000/svg\" height=\"24px\"viewBox=\"0 0 24 24\"\n",
              "     width=\"24px\">\n",
              "    <g>\n",
              "        <path d=\"M19 3H5c-1.1 0-2 .9-2 2v14c0 1.1.9 2 2 2h14c1.1 0 2-.9 2-2V5c0-1.1-.9-2-2-2zM9 17H7v-7h2v7zm4 0h-2V7h2v10zm4 0h-2v-4h2v4z\"/>\n",
              "    </g>\n",
              "</svg>\n",
              "  </button>\n",
              "\n",
              "<style>\n",
              "  .colab-df-quickchart {\n",
              "      --bg-color: #E8F0FE;\n",
              "      --fill-color: #1967D2;\n",
              "      --hover-bg-color: #E2EBFA;\n",
              "      --hover-fill-color: #174EA6;\n",
              "      --disabled-fill-color: #AAA;\n",
              "      --disabled-bg-color: #DDD;\n",
              "  }\n",
              "\n",
              "  [theme=dark] .colab-df-quickchart {\n",
              "      --bg-color: #3B4455;\n",
              "      --fill-color: #D2E3FC;\n",
              "      --hover-bg-color: #434B5C;\n",
              "      --hover-fill-color: #FFFFFF;\n",
              "      --disabled-bg-color: #3B4455;\n",
              "      --disabled-fill-color: #666;\n",
              "  }\n",
              "\n",
              "  .colab-df-quickchart {\n",
              "    background-color: var(--bg-color);\n",
              "    border: none;\n",
              "    border-radius: 50%;\n",
              "    cursor: pointer;\n",
              "    display: none;\n",
              "    fill: var(--fill-color);\n",
              "    height: 32px;\n",
              "    padding: 0;\n",
              "    width: 32px;\n",
              "  }\n",
              "\n",
              "  .colab-df-quickchart:hover {\n",
              "    background-color: var(--hover-bg-color);\n",
              "    box-shadow: 0 1px 2px rgba(60, 64, 67, 0.3), 0 1px 3px 1px rgba(60, 64, 67, 0.15);\n",
              "    fill: var(--button-hover-fill-color);\n",
              "  }\n",
              "\n",
              "  .colab-df-quickchart-complete:disabled,\n",
              "  .colab-df-quickchart-complete:disabled:hover {\n",
              "    background-color: var(--disabled-bg-color);\n",
              "    fill: var(--disabled-fill-color);\n",
              "    box-shadow: none;\n",
              "  }\n",
              "\n",
              "  .colab-df-spinner {\n",
              "    border: 2px solid var(--fill-color);\n",
              "    border-color: transparent;\n",
              "    border-bottom-color: var(--fill-color);\n",
              "    animation:\n",
              "      spin 1s steps(1) infinite;\n",
              "  }\n",
              "\n",
              "  @keyframes spin {\n",
              "    0% {\n",
              "      border-color: transparent;\n",
              "      border-bottom-color: var(--fill-color);\n",
              "      border-left-color: var(--fill-color);\n",
              "    }\n",
              "    20% {\n",
              "      border-color: transparent;\n",
              "      border-left-color: var(--fill-color);\n",
              "      border-top-color: var(--fill-color);\n",
              "    }\n",
              "    30% {\n",
              "      border-color: transparent;\n",
              "      border-left-color: var(--fill-color);\n",
              "      border-top-color: var(--fill-color);\n",
              "      border-right-color: var(--fill-color);\n",
              "    }\n",
              "    40% {\n",
              "      border-color: transparent;\n",
              "      border-right-color: var(--fill-color);\n",
              "      border-top-color: var(--fill-color);\n",
              "    }\n",
              "    60% {\n",
              "      border-color: transparent;\n",
              "      border-right-color: var(--fill-color);\n",
              "    }\n",
              "    80% {\n",
              "      border-color: transparent;\n",
              "      border-right-color: var(--fill-color);\n",
              "      border-bottom-color: var(--fill-color);\n",
              "    }\n",
              "    90% {\n",
              "      border-color: transparent;\n",
              "      border-bottom-color: var(--fill-color);\n",
              "    }\n",
              "  }\n",
              "</style>\n",
              "\n",
              "  <script>\n",
              "    async function quickchart(key) {\n",
              "      const quickchartButtonEl =\n",
              "        document.querySelector('#' + key + ' button');\n",
              "      quickchartButtonEl.disabled = true;  // To prevent multiple clicks.\n",
              "      quickchartButtonEl.classList.add('colab-df-spinner');\n",
              "      try {\n",
              "        const charts = await google.colab.kernel.invokeFunction(\n",
              "            'suggestCharts', [key], {});\n",
              "      } catch (error) {\n",
              "        console.error('Error during call to suggestCharts:', error);\n",
              "      }\n",
              "      quickchartButtonEl.classList.remove('colab-df-spinner');\n",
              "      quickchartButtonEl.classList.add('colab-df-quickchart-complete');\n",
              "    }\n",
              "    (() => {\n",
              "      let quickchartButtonEl =\n",
              "        document.querySelector('#df-49e47d35-7edc-4dec-9f21-96af52ce2199 button');\n",
              "      quickchartButtonEl.style.display =\n",
              "        google.colab.kernel.accessAllowed ? 'block' : 'none';\n",
              "    })();\n",
              "  </script>\n",
              "</div>\n",
              "\n",
              "    </div>\n",
              "  </div>\n"
            ],
            "application/vnd.google.colaboratory.intrinsic+json": {
              "type": "dataframe",
              "variable_name": "data"
            }
          },
          "metadata": {},
          "execution_count": 118
        }
      ]
    },
    {
      "cell_type": "code",
      "source": [
        "data.isnull().sum()"
      ],
      "metadata": {
        "colab": {
          "base_uri": "https://localhost:8080/"
        },
        "id": "Lvycd717DUwh",
        "outputId": "f266ab9d-ba47-4601-d3aa-6465f2a5f25b"
      },
      "execution_count": 119,
      "outputs": [
        {
          "output_type": "execute_result",
          "data": {
            "text/plain": [
              "customer_id                          0\n",
              "vintage                              0\n",
              "age                                  0\n",
              "gender                             525\n",
              "dependents                        2463\n",
              "occupation                          80\n",
              "city                               803\n",
              "customer_nw_category                 0\n",
              "branch_code                          0\n",
              "current_balance                      0\n",
              "previous_month_end_balance           0\n",
              "average_monthly_balance_prevQ        0\n",
              "average_monthly_balance_prevQ2       0\n",
              "current_month_credit                 0\n",
              "previous_month_credit                0\n",
              "current_month_debit                  0\n",
              "previous_month_debit                 0\n",
              "current_month_balance                0\n",
              "previous_month_balance               0\n",
              "churn                                0\n",
              "last_transaction                     0\n",
              "dtype: int64"
            ]
          },
          "metadata": {},
          "execution_count": 119
        }
      ]
    },
    {
      "cell_type": "code",
      "source": [
        "data.info()"
      ],
      "metadata": {
        "colab": {
          "base_uri": "https://localhost:8080/"
        },
        "id": "95NA9tAGGFK1",
        "outputId": "990b7e69-83ce-457c-8dc3-7279cf3880c1"
      },
      "execution_count": 120,
      "outputs": [
        {
          "output_type": "stream",
          "name": "stdout",
          "text": [
            "<class 'pandas.core.frame.DataFrame'>\n",
            "RangeIndex: 28382 entries, 0 to 28381\n",
            "Data columns (total 21 columns):\n",
            " #   Column                          Non-Null Count  Dtype  \n",
            "---  ------                          --------------  -----  \n",
            " 0   customer_id                     28382 non-null  int64  \n",
            " 1   vintage                         28382 non-null  int64  \n",
            " 2   age                             28382 non-null  int64  \n",
            " 3   gender                          27857 non-null  object \n",
            " 4   dependents                      25919 non-null  float64\n",
            " 5   occupation                      28302 non-null  object \n",
            " 6   city                            27579 non-null  float64\n",
            " 7   customer_nw_category            28382 non-null  int64  \n",
            " 8   branch_code                     28382 non-null  int64  \n",
            " 9   current_balance                 28382 non-null  float64\n",
            " 10  previous_month_end_balance      28382 non-null  float64\n",
            " 11  average_monthly_balance_prevQ   28382 non-null  float64\n",
            " 12  average_monthly_balance_prevQ2  28382 non-null  float64\n",
            " 13  current_month_credit            28382 non-null  float64\n",
            " 14  previous_month_credit           28382 non-null  float64\n",
            " 15  current_month_debit             28382 non-null  float64\n",
            " 16  previous_month_debit            28382 non-null  float64\n",
            " 17  current_month_balance           28382 non-null  float64\n",
            " 18  previous_month_balance          28382 non-null  float64\n",
            " 19  churn                           28382 non-null  int64  \n",
            " 20  last_transaction                28382 non-null  object \n",
            "dtypes: float64(12), int64(6), object(3)\n",
            "memory usage: 4.5+ MB\n"
          ]
        }
      ]
    },
    {
      "cell_type": "code",
      "source": [
        "data['current_balance'].describe()"
      ],
      "metadata": {
        "colab": {
          "base_uri": "https://localhost:8080/"
        },
        "id": "RHhcSXgyUpmh",
        "outputId": "b50b75a1-724c-4e3d-d7a5-06b60eea8e11"
      },
      "execution_count": 121,
      "outputs": [
        {
          "output_type": "execute_result",
          "data": {
            "text/plain": [
              "count    2.838200e+04\n",
              "mean     7.380552e+03\n",
              "std      4.259871e+04\n",
              "min     -5.503960e+03\n",
              "25%      1.784470e+03\n",
              "50%      3.281255e+03\n",
              "75%      6.635820e+03\n",
              "max      5.905904e+06\n",
              "Name: current_balance, dtype: float64"
            ]
          },
          "metadata": {},
          "execution_count": 121
        }
      ]
    },
    {
      "cell_type": "code",
      "source": [
        "churn_by_occupation = data.groupby('occupation')['churn'].sum().reset_index()\n",
        "churn_by_occupation.rename(columns={'churn': 'number_of_churn'}, inplace=True)\n",
        "\n",
        "print(churn_by_occupation)"
      ],
      "metadata": {
        "colab": {
          "base_uri": "https://localhost:8080/"
        },
        "id": "-rqZ7TrnXPvc",
        "outputId": "13028743-a0d4-4d63-cf5d-7c2cebad895c"
      },
      "execution_count": 122,
      "outputs": [
        {
          "output_type": "stream",
          "name": "stdout",
          "text": [
            "      occupation  number_of_churn\n",
            "0        company                4\n",
            "1        retired              305\n",
            "2       salaried             1147\n",
            "3  self_employed             3467\n",
            "4        student              324\n"
          ]
        }
      ]
    },
    {
      "cell_type": "code",
      "source": [
        "nan_mask = data['occupation'].isna()\n",
        "\n",
        "nan_churn_count = data[nan_mask]['churn'].sum()\n",
        "\n",
        "print(\"Number of churned customers with NaN occupation:\", nan_churn_count)"
      ],
      "metadata": {
        "colab": {
          "base_uri": "https://localhost:8080/"
        },
        "id": "Ib_SO2kuXgmS",
        "outputId": "6969dacb-2fb0-45aa-94b8-f86b45392418"
      },
      "execution_count": 123,
      "outputs": [
        {
          "output_type": "stream",
          "name": "stdout",
          "text": [
            "Number of churned customers with NaN occupation: 13\n"
          ]
        }
      ]
    },
    {
      "cell_type": "code",
      "source": [
        "si = SimpleImputer(missing_values=np.nan, strategy='most_frequent') # Create a SimpleImputer object\n",
        "data['occupation'] = si.fit_transform(data[['occupation']]).flatten() # Fit and transform the data"
      ],
      "metadata": {
        "id": "Dv36Zn-tVgt0"
      },
      "execution_count": 124,
      "outputs": []
    },
    {
      "cell_type": "code",
      "source": [
        "data['gender'] = np.where(data['gender'].isna(), 'Not_to_say', data['gender'])"
      ],
      "metadata": {
        "id": "wPmpj_yNpJZL"
      },
      "execution_count": 125,
      "outputs": []
    },
    {
      "cell_type": "code",
      "source": [
        "data['gender'].unique()"
      ],
      "metadata": {
        "colab": {
          "base_uri": "https://localhost:8080/"
        },
        "id": "RB818G_2QmcJ",
        "outputId": "c9d5236c-162b-455e-ee80-9308a43620e4"
      },
      "execution_count": 126,
      "outputs": [
        {
          "output_type": "execute_result",
          "data": {
            "text/plain": [
              "array(['Male', 'Not_to_say', 'Female'], dtype=object)"
            ]
          },
          "metadata": {},
          "execution_count": 126
        }
      ]
    },
    {
      "cell_type": "code",
      "source": [
        "data['dependents'].corr(data['churn'])"
      ],
      "metadata": {
        "colab": {
          "base_uri": "https://localhost:8080/"
        },
        "id": "koZ0oTzhHKOR",
        "outputId": "86749a00-e468-4886-f562-cbd3308a10ea"
      },
      "execution_count": 127,
      "outputs": [
        {
          "output_type": "execute_result",
          "data": {
            "text/plain": [
              "0.033486736391087624"
            ]
          },
          "metadata": {},
          "execution_count": 127
        }
      ]
    },
    {
      "cell_type": "code",
      "source": [
        "data.isnull().sum()"
      ],
      "metadata": {
        "colab": {
          "base_uri": "https://localhost:8080/"
        },
        "id": "ZXlY3X_VUeQ-",
        "outputId": "748e9c7a-d906-4972-8800-5ce3b71ea91d"
      },
      "execution_count": 128,
      "outputs": [
        {
          "output_type": "execute_result",
          "data": {
            "text/plain": [
              "customer_id                          0\n",
              "vintage                              0\n",
              "age                                  0\n",
              "gender                               0\n",
              "dependents                        2463\n",
              "occupation                           0\n",
              "city                               803\n",
              "customer_nw_category                 0\n",
              "branch_code                          0\n",
              "current_balance                      0\n",
              "previous_month_end_balance           0\n",
              "average_monthly_balance_prevQ        0\n",
              "average_monthly_balance_prevQ2       0\n",
              "current_month_credit                 0\n",
              "previous_month_credit                0\n",
              "current_month_debit                  0\n",
              "previous_month_debit                 0\n",
              "current_month_balance                0\n",
              "previous_month_balance               0\n",
              "churn                                0\n",
              "last_transaction                     0\n",
              "dtype: int64"
            ]
          },
          "metadata": {},
          "execution_count": 128
        }
      ]
    },
    {
      "cell_type": "code",
      "source": [
        "data['last_transaction'].unique()"
      ],
      "metadata": {
        "colab": {
          "base_uri": "https://localhost:8080/"
        },
        "id": "gx8UnRWWf0y1",
        "outputId": "1b57c693-e710-449f-8333-4262969f00bc"
      },
      "execution_count": 129,
      "outputs": [
        {
          "output_type": "execute_result",
          "data": {
            "text/plain": [
              "array(['2019-05-21', '2019-11-01', 'NaT', '2019-08-06', '2019-11-03',\n",
              "       '2019-09-24', '2019-07-12', '2019-12-12', '2019-12-31',\n",
              "       '2019-12-26', '2019-12-11', '2019-11-14', '2019-03-03',\n",
              "       '2019-11-09', '2019-12-28', '2019-10-23', '2019-11-30',\n",
              "       '2019-12-08', '2019-12-18', '2019-12-27', '2019-12-22',\n",
              "       '2019-12-04', '2019-11-25', '2019-10-15', '2019-08-28',\n",
              "       '2019-12-21', '2019-09-25', '2019-10-31', '2019-12-05',\n",
              "       '2019-09-22', '2019-12-24', '2019-12-20', '2019-07-24',\n",
              "       '2019-12-17', '2019-09-27', '2019-12-14', '2019-09-06',\n",
              "       '2019-10-16', '2019-12-13', '2019-12-03', '2019-12-06',\n",
              "       '2019-07-11', '2019-11-15', '2019-12-19', '2019-12-25',\n",
              "       '2019-08-15', '2019-08-27', '2019-11-12', '2019-05-15',\n",
              "       '2019-11-16', '2019-10-17', '2019-05-26', '2019-10-22',\n",
              "       '2019-12-01', '2019-07-04', '2019-11-22', '2019-04-16',\n",
              "       '2019-06-26', '2019-02-06', '2019-10-11', '2019-03-09',\n",
              "       '2019-10-29', '2019-07-10', '2019-09-26', '2019-11-29',\n",
              "       '2019-09-20', '2019-11-21', '2019-07-20', '2019-09-12',\n",
              "       '2019-05-14', '2019-10-05', '2019-11-26', '2019-10-06',\n",
              "       '2019-11-13', '2019-08-24', '2019-06-09', '2019-01-06',\n",
              "       '2019-04-18', '2019-12-10', '2019-08-21', '2019-06-05',\n",
              "       '2019-11-08', '2019-12-07', '2019-07-13', '2019-08-18',\n",
              "       '2019-08-04', '2019-03-20', '2019-08-16', '2019-01-24',\n",
              "       '2019-07-16', '2019-06-14', '2019-09-14', '2019-02-26',\n",
              "       '2019-11-23', '2019-05-18', '2019-11-06', '2019-10-24',\n",
              "       '2019-09-13', '2019-09-04', '2019-01-08', '2019-10-20',\n",
              "       '2019-09-19', '2019-04-17', '2019-08-29', '2019-10-30',\n",
              "       '2019-11-05', '2019-10-03', '2019-10-01', '2019-08-07',\n",
              "       '2019-04-25', '2019-11-17', '2019-11-20', '2019-08-02',\n",
              "       '2019-08-30', '2019-10-07', '2019-09-05', '2019-10-02',\n",
              "       '2019-01-15', '2019-09-07', '2019-12-02', '2019-10-04',\n",
              "       '2019-02-15', '2019-03-07', '2019-02-27', '2019-10-13',\n",
              "       '2019-08-01', '2019-03-14', '2019-07-17', '2019-05-08',\n",
              "       '2019-06-28', '2019-11-07', '2019-11-19', '2019-12-15',\n",
              "       '2019-10-19', '2019-12-30', '2019-10-12', '2019-07-21',\n",
              "       '2019-07-22', '2019-06-02', '2019-03-08', '2019-03-19',\n",
              "       '2019-07-19', '2019-09-03', '2019-11-02', '2019-07-31',\n",
              "       '2019-05-12', '2019-10-21', '2019-02-14', '2019-11-28',\n",
              "       '2019-02-21', '2019-10-08', '2019-06-21', '2019-01-29',\n",
              "       '2019-06-27', '2019-07-06', '2019-06-07', '2019-09-18',\n",
              "       '2019-07-25', '2019-08-26', '2019-08-08', '2019-03-06',\n",
              "       '2019-05-23', '2019-03-16', '2019-07-09', '2019-10-09',\n",
              "       '2019-12-16', '2019-07-30', '2019-11-24', '2019-04-19',\n",
              "       '2019-04-07', '2019-07-23', '2019-06-13', '2019-04-23',\n",
              "       '2019-11-18', '2019-12-09', '2019-01-19', '2019-10-27',\n",
              "       '2019-03-22', '2019-06-22', '2019-04-09', '2019-08-14',\n",
              "       '2019-08-09', '2019-02-05', '2019-06-29', '2019-07-05',\n",
              "       '2019-04-28', '2019-07-03', '2019-03-29', '2019-05-04',\n",
              "       '2019-08-17', '2019-06-23', '2019-08-31', '2019-01-25',\n",
              "       '2019-09-08', '2019-05-25', '2019-04-26', '2019-05-29',\n",
              "       '2019-08-20', '2019-09-21', '2019-05-11', '2019-06-18',\n",
              "       '2019-11-04', '2019-07-02', '2019-01-18', '2019-10-18',\n",
              "       '2019-01-02', '2019-02-02', '2019-07-26', '2019-02-10',\n",
              "       '2019-05-09', '2019-05-06', '2019-03-01', '2019-11-27',\n",
              "       '2019-05-01', '2019-05-17', '2019-09-11', '2019-10-25',\n",
              "       '2019-05-30', '2019-09-17', '2019-03-26', '2019-06-04',\n",
              "       '2019-12-23', '2019-05-07', '2019-04-20', '2019-10-28',\n",
              "       '2019-02-23', '2019-04-03', '2019-09-28', '2019-03-05',\n",
              "       '2019-01-30', '2019-01-26', '2019-02-04', '2019-06-08',\n",
              "       '2019-04-04', '2019-06-25', '2019-07-18', '2019-08-13',\n",
              "       '2019-08-22', '2019-04-27', '2019-06-30', '2019-01-04',\n",
              "       '2019-06-01', '2018-12-31', '2019-04-02', '2019-08-10',\n",
              "       '2019-01-23', '2019-09-01', '2019-02-17', '2019-06-06',\n",
              "       '2019-03-23', '2019-12-29', '2019-09-15', '2019-06-20',\n",
              "       '2019-04-06', '2019-07-28', '2019-09-10', '2019-03-30',\n",
              "       '2019-05-24', '2019-01-22', '2019-04-12', '2019-03-28',\n",
              "       '2019-06-19', '2019-11-11', '2019-03-27', '2019-05-16',\n",
              "       '2019-06-12', '2019-02-16', '2019-04-24', '2019-02-20',\n",
              "       '2019-05-05', '2019-01-16', '2019-11-10', '2019-03-13',\n",
              "       '2019-05-31', '2019-01-01', '2019-02-25', '2019-04-21',\n",
              "       '2019-07-27', '2019-04-30', '2019-02-24', '2019-09-09',\n",
              "       '2019-09-23', '2019-03-15', '2019-06-11', '2019-07-07',\n",
              "       '2019-02-12', '2019-04-11', '2019-06-15', '2019-01-03',\n",
              "       '2019-05-03', '2019-09-29', '2019-01-13', '2019-04-15',\n",
              "       '2019-04-05', '2019-02-28', '2019-02-01', '2019-05-19',\n",
              "       '2019-05-02', '2019-04-08', '2019-03-10', '2019-07-01',\n",
              "       '2019-04-13', '2019-05-28', '2019-08-23', '2019-03-12',\n",
              "       '2019-03-21', '2019-05-22', '2019-03-02', '2019-02-08',\n",
              "       '2019-01-10', '2019-09-30', '2019-03-11', '2019-02-03',\n",
              "       '2019-03-17', '2019-04-10', '2019-01-27', '2019-02-22',\n",
              "       '2019-02-09', '2019-02-07', '2019-01-09', '2019-02-19',\n",
              "       '2019-03-24', '2019-05-20', '2019-05-10', '2019-10-14',\n",
              "       '2019-08-05', '2019-08-03', '2019-06-16', '2019-09-16',\n",
              "       '2019-10-26', '2019-01-20', '2019-01-12', '2019-01-11',\n",
              "       '2019-01-17', '2019-09-02', '2019-01-21', '2019-07-29',\n",
              "       '2019-01-28', '2019-01-05', '2019-04-14', '2019-04-01',\n",
              "       '2019-04-29', '2019-03-18', '2019-06-24', '2019-03-31',\n",
              "       '2019-05-13', '2019-08-12', '2019-08-19', '2019-06-17',\n",
              "       '2019-07-08', '2019-05-27', '2019-06-03', '2019-10-10',\n",
              "       '2019-02-11', '2019-07-15', '2019-01-14', '2019-02-13',\n",
              "       '2019-03-04', '2019-07-14', '2019-08-25', '2019-01-31'],\n",
              "      dtype=object)"
            ]
          },
          "metadata": {},
          "execution_count": 129
        }
      ]
    },
    {
      "cell_type": "code",
      "source": [
        "data.drop('dependents',axis=1,inplace=True)"
      ],
      "metadata": {
        "id": "FJw8lJbIIRxj"
      },
      "execution_count": 130,
      "outputs": []
    },
    {
      "cell_type": "code",
      "source": [
        "data.drop('city',axis=1,inplace=True)"
      ],
      "metadata": {
        "id": "w1ab_nHYIncJ"
      },
      "execution_count": 131,
      "outputs": []
    },
    {
      "cell_type": "code",
      "source": [
        "data = pd.get_dummies(data, columns=['gender', 'occupation'],drop_first=True)\n",
        "data.drop('last_transaction',axis=1,inplace=True)"
      ],
      "metadata": {
        "id": "AUfaw3xoawjf"
      },
      "execution_count": 132,
      "outputs": []
    },
    {
      "cell_type": "code",
      "source": [
        "from sklearn.model_selection import train_test_split\n",
        "from sklearn.preprocessing import StandardScaler\n",
        "from sklearn.linear_model import LogisticRegression\n",
        "from sklearn.metrics import accuracy_score, classification_report , confusion_matrix, roc_auc_score, recall_score, precision_score, f1_score"
      ],
      "metadata": {
        "id": "MneX-nI6Ja7N"
      },
      "execution_count": 133,
      "outputs": []
    },
    {
      "cell_type": "code",
      "source": [
        "x = data.drop('churn',axis=1)\n",
        "y = data['churn']\n",
        "x_train,x_test,y_train,y_test = train_test_split(x,y,test_size=0.3,random_state=42)"
      ],
      "metadata": {
        "id": "QAMiETotaEji"
      },
      "execution_count": 134,
      "outputs": []
    },
    {
      "cell_type": "code",
      "source": [
        "lr = LogisticRegression(class_weight='balanced')\n",
        "lr.fit(x_train,y_train)\n",
        "y_pred = lr.predict(x_test)\n",
        "accur = lr.score(x_test,y_test)\n",
        "print(accur)"
      ],
      "metadata": {
        "colab": {
          "base_uri": "https://localhost:8080/"
        },
        "id": "7GJ5cZMAJsbZ",
        "outputId": "816cc1a9-0fb6-4078-b47a-7feb449ec8cc"
      },
      "execution_count": 135,
      "outputs": [
        {
          "output_type": "stream",
          "name": "stdout",
          "text": [
            "0.8048150322959483\n"
          ]
        },
        {
          "output_type": "stream",
          "name": "stderr",
          "text": [
            "/usr/local/lib/python3.10/dist-packages/sklearn/linear_model/_logistic.py:460: ConvergenceWarning: lbfgs failed to converge (status=1):\n",
            "STOP: TOTAL NO. of ITERATIONS REACHED LIMIT.\n",
            "\n",
            "Increase the number of iterations (max_iter) or scale the data as shown in:\n",
            "    https://scikit-learn.org/stable/modules/preprocessing.html\n",
            "Please also refer to the documentation for alternative solver options:\n",
            "    https://scikit-learn.org/stable/modules/linear_model.html#logistic-regression\n",
            "  n_iter_i = _check_optimize_result(\n"
          ]
        }
      ]
    },
    {
      "cell_type": "code",
      "source": [
        "rec = recall_score(y_test,y_pred)\n",
        "print(rec)"
      ],
      "metadata": {
        "colab": {
          "base_uri": "https://localhost:8080/"
        },
        "id": "l2OQz_OWce7j",
        "outputId": "df25ab02-2ea2-4bfe-b9c2-50b2100a3810"
      },
      "execution_count": 136,
      "outputs": [
        {
          "output_type": "stream",
          "name": "stdout",
          "text": [
            "0.6375968992248062\n"
          ]
        }
      ]
    },
    {
      "cell_type": "code",
      "source": [
        "preci = precision_score(y_test,y_pred)\n",
        "print(preci)"
      ],
      "metadata": {
        "colab": {
          "base_uri": "https://localhost:8080/"
        },
        "id": "xqXnRHr6cjZ3",
        "outputId": "f86b4c5c-3e85-4be3-820f-29480d1cbc91"
      },
      "execution_count": 137,
      "outputs": [
        {
          "output_type": "stream",
          "name": "stdout",
          "text": [
            "0.47270114942528735\n"
          ]
        }
      ]
    },
    {
      "cell_type": "code",
      "source": [
        "f1 = f1_score(y_test,y_pred)\n",
        "print(f1)"
      ],
      "metadata": {
        "colab": {
          "base_uri": "https://localhost:8080/"
        },
        "id": "7uIpMzG6coAQ",
        "outputId": "41f44bba-13a8-4bc0-db6b-159aa5031fa9"
      },
      "execution_count": 138,
      "outputs": [
        {
          "output_type": "stream",
          "name": "stdout",
          "text": [
            "0.5429042904290429\n"
          ]
        }
      ]
    },
    {
      "cell_type": "code",
      "source": [
        "conf_matrix = confusion_matrix(y_test,y_pred)\n",
        "print(conf_matrix)"
      ],
      "metadata": {
        "colab": {
          "base_uri": "https://localhost:8080/"
        },
        "id": "AZZ3jceSdF9j",
        "outputId": "156f91f9-7764-4b22-9478-87e9b59a1faa"
      },
      "execution_count": 139,
      "outputs": [
        {
          "output_type": "stream",
          "name": "stdout",
          "text": [
            "[[5866 1101]\n",
            " [ 561  987]]\n"
          ]
        }
      ]
    }
  ]
}